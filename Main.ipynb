{
 "cells": [
  {
   "cell_type": "code",
   "execution_count": 2,
   "id": "c8213866-4d59-4f7c-b308-aacb8072c6ce",
   "metadata": {},
   "outputs": [],
   "source": [
    "import csv\n",
    "import pandas as pd\n",
    "from pathlib import Path\n",
    "input_file = Path('budget_data.csv')"
   ]
  },
  {
   "cell_type": "code",
   "execution_count": 3,
   "id": "da5ccfea-55b6-4767-bd26-c6d0739c213d",
   "metadata": {},
   "outputs": [],
   "source": [
    "month_change = []\n",
    "net_change_list = []\n",
    "greatest_increase = [\"\", 0]\n",
    "greatest_decrease = [\"\", 9999999999]\n",
    "row_count = 0\n",
    "total = 0"
   ]
  },
  {
   "cell_type": "code",
   "execution_count": 4,
   "id": "81bcfd11-647c-456a-9673-74e9f08bbf7f",
   "metadata": {},
   "outputs": [],
   "source": [
    "with open(\"budget_data.csv\", 'r') as csvfile:\n",
    "    reader = csv.reader(csvfile, delimiter=',')\n",
    "    header = next(reader) \n",
    "    first_row = next(reader) \n",
    "    total = total + int(first_row[1])\n",
    "    prev_net = int(first_row[1])\n",
    "    row_count = row_count + 1\n",
    "    month_column = []\n",
    "    pl_column = []\n",
    "    \n",
    "    \n",
    "    \n",
    "    for row in reader:\n",
    "        pl_column.append(int(row[1]))\n",
    "        month_column.append(row[0])\n",
    "        row_count += 1\n",
    "        total +=int(row[1])"
   ]
  },
  {
   "cell_type": "code",
   "execution_count": 5,
   "id": "3b630e1c-7722-494f-960d-06ca5520d4bf",
   "metadata": {},
   "outputs": [],
   "source": [
    "largest_pl_index = max(range(len(pl_column)), key=lambda i: pl_column[i])\n",
    "largest_pl_month = month_column[largest_pl_index]\n",
    "\n",
    "lowest_pl_index = min(range(len(pl_column)), key=lambda i: pl_column[i])\n",
    "lowest_pl_month = month_column[lowest_pl_index]"
   ]
  },
  {
   "cell_type": "code",
   "execution_count": 6,
   "id": "f927bb9f-832a-4cfa-8e24-0e098fa45331",
   "metadata": {},
   "outputs": [],
   "source": [
    "for i in range(1, len(pl_column)):\n",
    "    net_change = pl_column[i] - pl_column[i-1]\n",
    "    net_change_list.append(net_change)\n",
    "    month_change.append(month_column[i])\n",
    "    \n",
    "    if net_change > greatest_increase[1]:\n",
    "        greatest_increase[0] = month_column[i]\n",
    "        greatest_increase[1] = net_change\n",
    "    if net_change < greatest_decrease[1]:\n",
    "        greatest_decrease[0] = month_column[i]\n",
    "        greatest_decrease[1] = net_change\n",
    "        \n",
    "\n",
    "monthly_delta = round(sum(net_change_list)/len(net_change_list), 2)"
   ]
  },
  {
   "cell_type": "code",
   "execution_count": 10,
   "id": "d23b26a0-b99d-4fb9-a930-a76acc4c9dd6",
   "metadata": {
    "collapsed": true,
    "jupyter": {
     "outputs_hidden": true
    },
    "tags": []
   },
   "outputs": [
    {
     "name": "stdout",
     "output_type": "stream",
     "text": [
      "Number of months: 86\n",
      "Net total amount: 38382578\n",
      "Change: -3732.81\n",
      "Greatest Increase in Profits: Feb-2012 1926159\n",
      "Greatest Decrease in Profits: Sep-2013 -2196167\n"
     ]
    }
   ],
   "source": [
    "print(f\"Number of months: {row_count}\")\n",
    "print(f\"Net total amount: {total}\")\n",
    "print(f\"Change: {monthly_delta}\")\n",
    "print(f\"Greatest Increase in Profits: {greatest_increase[0]} {greatest_increase[1]}\")\n",
    "print(f\"Greatest Decrease in Profits: {greatest_decrease[0]} {greatest_decrease[1]}\")"
   ]
  },
  {
   "cell_type": "code",
   "execution_count": null,
   "id": "61a92de6-ccea-4108-b795-f5a977873335",
   "metadata": {},
   "outputs": [],
   "source": []
  }
 ],
 "metadata": {
  "kernelspec": {
   "display_name": "Python 3 (ipykernel)",
   "language": "python",
   "name": "python3"
  },
  "language_info": {
   "codemirror_mode": {
    "name": "ipython",
    "version": 3
   },
   "file_extension": ".py",
   "mimetype": "text/x-python",
   "name": "python",
   "nbconvert_exporter": "python",
   "pygments_lexer": "ipython3",
   "version": "3.10.9"
  }
 },
 "nbformat": 4,
 "nbformat_minor": 5
}
